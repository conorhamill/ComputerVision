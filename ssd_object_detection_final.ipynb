{
 "cells": [
  {
   "cell_type": "code",
   "execution_count": 2,
   "metadata": {},
   "outputs": [],
   "source": [
    "import cv2\n",
    "import numpy as np\n",
    "import urllib.request\n",
    "import tensorflow as tf\n",
    "import tarfile\n"
   ]
  },
  {
   "cell_type": "code",
   "execution_count": 3,
   "metadata": {},
   "outputs": [],
   "source": [
    "\n",
    "# Download the object detection model\n",
    "MODEL_URL = 'http://download.tensorflow.org/models/object_detection/ssd_mobilenet_v2_coco_2018_03_29.tar.gz'\n",
    "MODEL_PATH = 'ssd_mobilenet_v2_coco_2018_03_29/saved_model'\n",
    "\n",
    "urllib.request.urlretrieve(MODEL_URL, 'model.tar.gz')\n",
    "tarfile = tarfile.open('model.tar.gz', 'r:gz')\n",
    "tarfile.extractall()\n"
   ]
  },
  {
   "cell_type": "code",
   "execution_count": 4,
   "metadata": {},
   "outputs": [
    {
     "name": "stdout",
     "output_type": "stream",
     "text": [
      "INFO:tensorflow:Saver not created because there are no variables in the graph to restore\n"
     ]
    }
   ],
   "source": [
    "\n",
    "# Load the model into memory\n",
    "model = tf.saved_model.load(MODEL_PATH)"
   ]
  },
  {
   "cell_type": "code",
   "execution_count": 5,
   "metadata": {},
   "outputs": [],
   "source": [
    "\n",
    "# Get the object detection function from the model\n",
    "detect_fn = model.signatures['serving_default']\n",
    "\n",
    "# Load the label map\n",
    "label_map_url = 'https://raw.githubusercontent.com/tensorflow/models/master/research/object_detection/data/mscoco_label_map.pbtxt'\n",
    "label_map_path = 'mscoco_label_map.pbtxt'\n"
   ]
  },
  {
   "cell_type": "code",
   "execution_count": 6,
   "metadata": {},
   "outputs": [
    {
     "data": {
      "text/plain": [
       "('mscoco_label_map.pbtxt', <http.client.HTTPMessage at 0x27a49ffaf50>)"
      ]
     },
     "execution_count": 6,
     "metadata": {},
     "output_type": "execute_result"
    }
   ],
   "source": [
    "\n",
    "urllib.request.urlretrieve(label_map_url, label_map_path)\n"
   ]
  },
  {
   "cell_type": "code",
   "execution_count": 7,
   "metadata": {},
   "outputs": [],
   "source": [
    "# Load the label map into memory\n",
    "category_index = {}\n",
    "with open(label_map_path, 'r') as f:\n",
    "    lines = f.readlines()\n",
    "    for i in range(0, len(lines), 5):\n",
    "        id = int(lines[i+2].split(':')[1])\n",
    "        name = lines[i+3].split(':')[1].strip().strip('\"')\n",
    "        category_index[id] = name"
   ]
  },
  {
   "cell_type": "code",
   "execution_count": 8,
   "metadata": {},
   "outputs": [],
   "source": [
    "# Set the threshold for object detection\n",
    "THRESHOLD = 0.25\n",
    "\n",
    "# Define the color map for different object classes\n",
    "COLORS = [(255, 0, 0), (0, 255, 0), (0, 0, 255), (0,255,255), (255,0,255), (128,128,128), (128,0,0)]  # Blue, Green, Red, cyan, magenta, gray, maroon\n",
    "\n",
    "# Open the webcam\n",
    "cap = cv2.VideoCapture(0)\n",
    "\n",
    "while True:\n",
    "    # Read a frame from the webcam\n",
    "    ret, frame = cap.read()\n",
    "\n",
    "    # Convert the frame to RGB\n",
    "    frame = cv2.cvtColor(frame, cv2.COLOR_BGR2RGB)\n",
    "\n",
    "    # Run object detection on the frame\n",
    "    input_tensor = tf.convert_to_tensor(frame)\n",
    "    input_tensor = input_tensor[tf.newaxis, ...]\n",
    "    detections = detect_fn(input_tensor)\n",
    "\n",
    "    # Extract the detected objects and their scores\n",
    "    boxes = detections['detection_boxes'][0].numpy()\n",
    "    scores = detections['detection_scores'][0].numpy()\n",
    "    classes = detections['detection_classes'][0].numpy().astype(np.int32)\n",
    "\n",
    "    # Filter out objects with low scores\n",
    "    high_score_boxes = boxes[scores > THRESHOLD]\n",
    "    high_score_classes = classes[scores > THRESHOLD]\n",
    "    high_score_scores = scores[scores > THRESHOLD]\n",
    "\n",
    "    # Draw a box around each detected object and label it\n",
    "    for box, cls, score in zip(high_score_boxes, high_score_classes, high_score_scores):\n",
    "        ymin, xmin, ymax, xmax = box\n",
    "        x, y, w, h = int(xmin*frame.shape[1]), int(ymin*frame.shape[0]), int((xmax-xmin)*frame.shape[1]), int((ymax-ymin)*frame.shape[0])\n",
    "        color = COLORS[cls % len(COLORS)]\n",
    "        cv2.rectangle(frame, (x, y), (x+w, y+h), color, 2)\n",
    "        text = f\"{category_index[cls]}: {score:.2f}\"\n",
    "        label_size, baseline = cv2.getTextSize(text, cv2.FONT_HERSHEY_DUPLEX, 0.6, 1)\n",
    "        cv2.rectangle(frame, (x, y - label_size[1] - 10), (x + label_size[0], y), color, -1)\n",
    "        cv2.putText(frame, text, (x, y - 10), cv2.FONT_HERSHEY_DUPLEX, 0.6, (0, 0, 0), 1)\n",
    "\n",
    "\n",
    "    # Display the resulting frame\n",
    "    cv2.imshow('Object Detection', cv2.cvtColor(frame, cv2.COLOR_RGB2BGR))\n",
    "\n",
    "    # Exit the loop if the 'q' key is pressed\n",
    "    if cv2.waitKey(1) & 0xFF == ord('q'):\n",
    "        break\n",
    "\n",
    "# Release the webcam and close the window\n",
    "cap.release()\n",
    "cv2.destroyAllWindows()"
   ]
  },
  {
   "cell_type": "code",
   "execution_count": null,
   "metadata": {},
   "outputs": [],
   "source": []
  }
 ],
 "metadata": {
  "kernelspec": {
   "display_name": "Python 3",
   "language": "python",
   "name": "python3"
  },
  "language_info": {
   "codemirror_mode": {
    "name": "ipython",
    "version": 3
   },
   "file_extension": ".py",
   "mimetype": "text/x-python",
   "name": "python",
   "nbconvert_exporter": "python",
   "pygments_lexer": "ipython3",
   "version": "3.10.10"
  },
  "orig_nbformat": 4
 },
 "nbformat": 4,
 "nbformat_minor": 2
}
